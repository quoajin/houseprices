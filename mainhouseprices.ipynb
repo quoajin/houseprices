{
 "cells": [
  {
   "cell_type": "code",
   "execution_count": 1,
   "id": "297533a2-793b-4ae1-b7dc-d792a36dcbf3",
   "metadata": {},
   "outputs": [],
   "source": [
    "import pandas as pd\n",
    "import numpy as np"
   ]
  },
  {
   "cell_type": "code",
   "execution_count": 2,
   "id": "3c346f8a-5bcc-4bc9-ae72-5816841cbf80",
   "metadata": {},
   "outputs": [],
   "source": [
    "from pandas_profiling import ProfileReport"
   ]
  },
  {
   "cell_type": "code",
   "execution_count": 3,
   "id": "4c93aced-d56d-477e-8ffc-8a59e774b7c3",
   "metadata": {},
   "outputs": [],
   "source": [
    "df = pd.read_csv('train.csv')"
   ]
  },
  {
   "cell_type": "code",
   "execution_count": 4,
   "id": "2b49f299-1264-45ce-ab27-5b7db8c14500",
   "metadata": {},
   "outputs": [],
   "source": [
    "pd.set_option('display.max_rows', 100)"
   ]
  },
  {
   "cell_type": "markdown",
   "id": "fefa8ea0-afb7-44a5-a5fc-d202f694159a",
   "metadata": {},
   "source": [
    "## Separate features by type"
   ]
  },
  {
   "cell_type": "code",
   "execution_count": 5,
   "id": "c1572283-5d1a-45d7-a88c-710ae40675a6",
   "metadata": {},
   "outputs": [
    {
     "data": {
      "text/plain": [
       "Index(['Id', 'MSSubClass', 'MSZoning', 'LotFrontage', 'LotArea', 'Street',\n",
       "       'Alley', 'LotShape', 'LandContour', 'Utilities', 'LotConfig',\n",
       "       'LandSlope', 'Neighborhood', 'Condition1', 'Condition2', 'BldgType',\n",
       "       'HouseStyle', 'OverallQual', 'OverallCond', 'YearBuilt', 'YearRemodAdd',\n",
       "       'RoofStyle', 'RoofMatl', 'Exterior1st', 'Exterior2nd', 'MasVnrType',\n",
       "       'MasVnrArea', 'ExterQual', 'ExterCond', 'Foundation', 'BsmtQual',\n",
       "       'BsmtCond', 'BsmtExposure', 'BsmtFinType1', 'BsmtFinSF1',\n",
       "       'BsmtFinType2', 'BsmtFinSF2', 'BsmtUnfSF', 'TotalBsmtSF', 'Heating',\n",
       "       'HeatingQC', 'CentralAir', 'Electrical', '1stFlrSF', '2ndFlrSF',\n",
       "       'LowQualFinSF', 'GrLivArea', 'BsmtFullBath', 'BsmtHalfBath', 'FullBath',\n",
       "       'HalfBath', 'BedroomAbvGr', 'KitchenAbvGr', 'KitchenQual',\n",
       "       'TotRmsAbvGrd', 'Functional', 'Fireplaces', 'FireplaceQu', 'GarageType',\n",
       "       'GarageYrBlt', 'GarageFinish', 'GarageCars', 'GarageArea', 'GarageQual',\n",
       "       'GarageCond', 'PavedDrive', 'WoodDeckSF', 'OpenPorchSF',\n",
       "       'EnclosedPorch', '3SsnPorch', 'ScreenPorch', 'PoolArea', 'PoolQC',\n",
       "       'Fence', 'MiscFeature', 'MiscVal', 'MoSold', 'YrSold', 'SaleType',\n",
       "       'SaleCondition', 'SalePrice'],\n",
       "      dtype='object')"
      ]
     },
     "execution_count": 5,
     "metadata": {},
     "output_type": "execute_result"
    }
   ],
   "source": [
    "df.columns"
   ]
  },
  {
   "cell_type": "markdown",
   "id": "e0ce6cce-4b9c-4f66-a0ab-5a9333b400bd",
   "metadata": {},
   "source": [
    "### Select categorical features"
   ]
  },
  {
   "cell_type": "code",
   "execution_count": 6,
   "id": "de4c2090-e7de-4789-b37b-cb7ab2c9c992",
   "metadata": {},
   "outputs": [],
   "source": [
    "cols_cat = ['MSSubClass', 'MSZoning', 'Street', 'Alley', 'LotShape', 'LandContour', 'Utilities', 'LotConfig',\n",
    "        'LandSlope', 'Neighborhood', 'Condition1', 'Condition2', 'BldgType', 'HouseStyle', 'RoofStyle', 'RoofMatl',\n",
    "        'Exterior1st', 'Exterior2nd', 'MasVnrType', 'Foundation', 'BsmtFinType1', 'BsmtFinType2', 'Heating', \n",
    "        'CentralAir', 'Electrical', 'Functional', 'GarageType', 'PavedDrive', 'MiscFeature', 'SaleType', 'SaleCondition']"
   ]
  },
  {
   "cell_type": "code",
   "execution_count": 7,
   "id": "abd80d08-b362-43fe-9878-32161afe395b",
   "metadata": {},
   "outputs": [],
   "source": [
    "df[cols_cat] = df[cols_cat].astype('string')"
   ]
  },
  {
   "cell_type": "markdown",
   "id": "50d15717-ba6d-41ca-b561-c1a875ee59e8",
   "metadata": {},
   "source": [
    "### Select numeric features"
   ]
  },
  {
   "cell_type": "code",
   "execution_count": 8,
   "id": "fcb54e89-5dbb-4f59-a31e-36f75470172e",
   "metadata": {},
   "outputs": [
    {
     "data": {
      "text/plain": [
       "Index(['Id', 'LotFrontage', 'LotArea', 'OverallQual', 'OverallCond',\n",
       "       'YearBuilt', 'YearRemodAdd', 'MasVnrArea', 'BsmtFinSF1', 'BsmtFinSF2',\n",
       "       'BsmtUnfSF', 'TotalBsmtSF', '1stFlrSF', '2ndFlrSF', 'LowQualFinSF',\n",
       "       'GrLivArea', 'BsmtFullBath', 'BsmtHalfBath', 'FullBath', 'HalfBath',\n",
       "       'BedroomAbvGr', 'KitchenAbvGr', 'TotRmsAbvGrd', 'Fireplaces',\n",
       "       'GarageYrBlt', 'GarageCars', 'GarageArea', 'WoodDeckSF', 'OpenPorchSF',\n",
       "       'EnclosedPorch', '3SsnPorch', 'ScreenPorch', 'PoolArea', 'MiscVal',\n",
       "       'MoSold', 'YrSold', 'SalePrice'],\n",
       "      dtype='object')"
      ]
     },
     "execution_count": 8,
     "metadata": {},
     "output_type": "execute_result"
    }
   ],
   "source": [
    "df.select_dtypes(exclude = ['object', 'string']).columns"
   ]
  },
  {
   "cell_type": "code",
   "execution_count": 9,
   "id": "0f021c51-c883-4cee-b780-ca93b5f09cb4",
   "metadata": {},
   "outputs": [],
   "source": [
    "cols_num = ['LotFrontage', 'LotArea', 'OverallQual', 'OverallCond', 'YearBuilt', 'YearRemodAdd', 'MasVnrArea', 'BsmtFinSF1', 'BsmtFinSF2',\n",
    "       'BsmtUnfSF', 'TotalBsmtSF', '1stFlrSF', '2ndFlrSF', 'LowQualFinSF',\n",
    "       'GrLivArea', 'BsmtFullBath', 'BsmtHalfBath', 'FullBath', 'HalfBath',\n",
    "       'BedroomAbvGr', 'KitchenAbvGr', 'TotRmsAbvGrd', 'Fireplaces',\n",
    "       'GarageYrBlt', 'GarageCars', 'GarageArea', 'WoodDeckSF', 'OpenPorchSF','EnclosedPorch', '3SsnPorch', 'ScreenPorch', 'PoolArea', 'MiscVal',\n",
    "       'MoSold', 'YrSold', 'SalePrice']"
   ]
  },
  {
   "cell_type": "code",
   "execution_count": 10,
   "id": "1ceb5cf5-5c79-4ee6-8f27-b47ccf128e94",
   "metadata": {},
   "outputs": [
    {
     "data": {
      "text/plain": [
       "list"
      ]
     },
     "execution_count": 10,
     "metadata": {},
     "output_type": "execute_result"
    }
   ],
   "source": [
    "type(cols_num)"
   ]
  },
  {
   "cell_type": "markdown",
   "id": "1d0df323-eb56-42f3-863d-9f36fff5ad0a",
   "metadata": {},
   "source": [
    "### Select ordinal categories (remove Id)"
   ]
  },
  {
   "cell_type": "code",
   "execution_count": 11,
   "id": "7b0246ed-9a3e-44ef-890c-f1fa600b9878",
   "metadata": {},
   "outputs": [],
   "source": [
    "cols_ord = [col for col in df.columns if col not in cols_cat + cols_num]"
   ]
  },
  {
   "cell_type": "code",
   "execution_count": 12,
   "id": "52e6e0f9-56be-41b1-8741-3692caebf4dc",
   "metadata": {
    "tags": []
   },
   "outputs": [],
   "source": [
    "cols_ord.remove(\"Id\")"
   ]
  },
  {
   "cell_type": "code",
   "execution_count": 13,
   "id": "c948bc68-b46e-41ef-b8d6-c9d98b73bb1d",
   "metadata": {
    "tags": []
   },
   "outputs": [],
   "source": [
    "df[cols_ord] = df[cols_ord].astype('string')"
   ]
  },
  {
   "cell_type": "code",
   "execution_count": 14,
   "id": "8056c10e-d87a-424e-a3ea-411d234d3303",
   "metadata": {},
   "outputs": [
    {
     "data": {
      "text/plain": [
       "['ExterQual',\n",
       " 'ExterCond',\n",
       " 'BsmtQual',\n",
       " 'BsmtCond',\n",
       " 'BsmtExposure',\n",
       " 'HeatingQC',\n",
       " 'KitchenQual',\n",
       " 'FireplaceQu',\n",
       " 'GarageFinish',\n",
       " 'GarageQual',\n",
       " 'GarageCond',\n",
       " 'PoolQC',\n",
       " 'Fence']"
      ]
     },
     "execution_count": 14,
     "metadata": {},
     "output_type": "execute_result"
    }
   ],
   "source": [
    "cols_ord"
   ]
  },
  {
   "cell_type": "markdown",
   "id": "5a285491-46ab-4d07-b91e-35aeacd8e09d",
   "metadata": {},
   "source": [
    "## Impute NaNs"
   ]
  },
  {
   "cell_type": "code",
   "execution_count": 15,
   "id": "8f50816d-e938-4bd4-ab96-1aa4fa6160a5",
   "metadata": {
    "tags": []
   },
   "outputs": [],
   "source": [
    "df_nans = df.isna().sum().reset_index().rename(columns={0:'num_nans', 'index':'col_names'})"
   ]
  },
  {
   "cell_type": "code",
   "execution_count": 16,
   "id": "79d0102d-8344-407e-9e78-4a9882ebed86",
   "metadata": {},
   "outputs": [],
   "source": [
    "cols_with_nans = df_nans[df_nans.num_nans != 0].col_names.to_list()"
   ]
  },
  {
   "cell_type": "code",
   "execution_count": 17,
   "id": "4a337c2b-0dfc-4c51-9d3b-b696b56d8e0e",
   "metadata": {
    "tags": []
   },
   "outputs": [
    {
     "data": {
      "text/plain": [
       "LotFrontage     float64\n",
       "Alley            string\n",
       "MasVnrType       string\n",
       "MasVnrArea      float64\n",
       "BsmtQual         string\n",
       "BsmtCond         string\n",
       "BsmtExposure     string\n",
       "BsmtFinType1     string\n",
       "BsmtFinType2     string\n",
       "Electrical       string\n",
       "FireplaceQu      string\n",
       "GarageType       string\n",
       "GarageYrBlt     float64\n",
       "GarageFinish     string\n",
       "GarageQual       string\n",
       "GarageCond       string\n",
       "PoolQC           string\n",
       "Fence            string\n",
       "MiscFeature      string\n",
       "dtype: object"
      ]
     },
     "execution_count": 17,
     "metadata": {},
     "output_type": "execute_result"
    }
   ],
   "source": [
    "df[cols_with_nans].dtypes"
   ]
  },
  {
   "cell_type": "code",
   "execution_count": null,
   "id": "ab2dcc60-b1e3-4ce5-a060-241c24d50a07",
   "metadata": {},
   "outputs": [],
   "source": []
  },
  {
   "cell_type": "code",
   "execution_count": 18,
   "id": "48df47a4-be0f-4b24-8a44-973ea0632d1b",
   "metadata": {
    "tags": []
   },
   "outputs": [],
   "source": [
    "cols_cat_with_nans = list(set(cols_with_nans) & set(cols_cat))"
   ]
  },
  {
   "cell_type": "code",
   "execution_count": 19,
   "id": "790e011c-1ed1-40b2-8aef-238ed6ab06e6",
   "metadata": {
    "tags": []
   },
   "outputs": [],
   "source": [
    "cols_ord_with_nans = list(set(cols_with_nans) & set(cols_ord))"
   ]
  },
  {
   "cell_type": "code",
   "execution_count": 20,
   "id": "32964a74-f215-4fb0-9bbf-f822f631bfb8",
   "metadata": {
    "tags": []
   },
   "outputs": [],
   "source": [
    "cols_num_with_nans = list(set(cols_with_nans) & set(cols_num))"
   ]
  },
  {
   "cell_type": "markdown",
   "id": "0585a024-0944-458b-b18f-896219a86ca8",
   "metadata": {},
   "source": [
    " ### Fill missing values in categorical features"
   ]
  },
  {
   "cell_type": "code",
   "execution_count": 21,
   "id": "597d4577-8748-4f3d-996c-17253d600903",
   "metadata": {
    "tags": []
   },
   "outputs": [],
   "source": [
    "df[cols_cat_with_nans] = df[cols_cat_with_nans].fillna('NoInfo')"
   ]
  },
  {
   "cell_type": "markdown",
   "id": "712afc91-b243-40f1-8e0a-786451ea20f2",
   "metadata": {},
   "source": [
    "### Fill missing values in GarageYrBlt with YearBuilt. The missing values are from variables with no garage taken into account in other feature."
   ]
  },
  {
   "cell_type": "code",
   "execution_count": 22,
   "id": "38af5c01-3179-4c86-b5b6-58e5503d5447",
   "metadata": {
    "tags": []
   },
   "outputs": [],
   "source": [
    "df['GarageYrBlt'] = df['GarageYrBlt'].fillna(df['YearBuilt'])"
   ]
  },
  {
   "cell_type": "markdown",
   "id": "b4f9ef68-51b7-4777-a9f9-6bbab6d78ef4",
   "metadata": {},
   "source": [
    "### Fill missing values in LotFrontage by using LotArea"
   ]
  },
  {
   "cell_type": "code",
   "execution_count": 23,
   "id": "d131a56a-b9dd-4374-964a-ada7d6a5aca9",
   "metadata": {},
   "outputs": [],
   "source": [
    "df['LotFrontage'] = df['LotFrontage'].fillna(np.sqrt(df[\"LotArea\"])/np.mean(np.sqrt(df[\"LotArea\"])/(df[\"LotFrontage\"])))"
   ]
  },
  {
   "cell_type": "markdown",
   "id": "6be24a49-94c2-40b9-b434-a00c4460ea03",
   "metadata": {},
   "source": [
    "### Fill missing values in ordinal features with NoInfo"
   ]
  },
  {
   "cell_type": "code",
   "execution_count": 24,
   "id": "b1ccc91a-485b-42a0-9b6f-3e1dc1f1277e",
   "metadata": {},
   "outputs": [],
   "source": [
    "df[cols_ord_with_nans] = df[cols_ord_with_nans].fillna('NoInfo')"
   ]
  },
  {
   "cell_type": "markdown",
   "id": "88fa4e1c-50fa-482a-92c1-3bc2d8bd3513",
   "metadata": {},
   "source": [
    "### Eliminate the rows with remaining NaNs"
   ]
  },
  {
   "cell_type": "code",
   "execution_count": 25,
   "id": "dedd2f2c-01cf-45de-8b7d-302ee791f39d",
   "metadata": {},
   "outputs": [],
   "source": [
    "df = df.dropna(axis=0, how='any')"
   ]
  },
  {
   "cell_type": "markdown",
   "id": "c3ce78b1-eaf1-49fa-8a1c-f8fde16cc783",
   "metadata": {},
   "source": [
    "## Encode Categorical features with dummy variables"
   ]
  },
  {
   "cell_type": "code",
   "execution_count": 26,
   "id": "ff38e322-752d-42d7-8065-1db0334a6e15",
   "metadata": {},
   "outputs": [],
   "source": [
    "from sklearn.preprocessing import OneHotEncoder"
   ]
  },
  {
   "cell_type": "code",
   "execution_count": 27,
   "id": "a47b820e-0883-4638-a3f8-ae99e8582fd5",
   "metadata": {},
   "outputs": [],
   "source": [
    "enc_df = pd.get_dummies(df, columns=cols_cat, prefix=cols_cat, drop_first=True)"
   ]
  },
  {
   "cell_type": "markdown",
   "id": "8c0795f0-0a6f-4206-a85c-4da240bcce8b",
   "metadata": {
    "tags": []
   },
   "source": [
    "## Encode ordinal categories\n",
    "### Create train and test subsets for Ordinal Encoding"
   ]
  },
  {
   "cell_type": "code",
   "execution_count": 28,
   "id": "a21f2382-760f-4e24-95d6-070a87efa7dc",
   "metadata": {},
   "outputs": [
    {
     "name": "stdout",
     "output_type": "stream",
     "text": [
      "Input (1452, 13)\n",
      "Output (1452,)\n"
     ]
    }
   ],
   "source": [
    "data = df[cols_ord+['SalePrice']].values\n",
    "x_enc = df[cols_ord]\n",
    "y_enc = df['SalePrice']\n",
    "print('Input', x_enc.shape)\n",
    "print('Output', y_enc.shape)"
   ]
  },
  {
   "cell_type": "markdown",
   "id": "886b71d8-fecd-49ea-8a7f-3f67f8c0cf67",
   "metadata": {
    "tags": []
   },
   "source": [
    "### Fit and encode"
   ]
  },
  {
   "cell_type": "code",
   "execution_count": 29,
   "id": "945bf392-137a-4fe1-a079-0b3985ce9af7",
   "metadata": {},
   "outputs": [],
   "source": [
    "map_ord = [['NoInfo', 'Po', 'Fa', 'TA', 'Gd', 'Ex'],\n",
    "           ['NoInfo', 'Po', 'Fa', 'TA', 'Gd', 'Ex'],\n",
    "           ['NoInfo', 'Po', 'Fa', 'TA', 'Gd', 'Ex'],\n",
    "           ['NoInfo', 'Po', 'Fa', 'TA', 'Gd', 'Ex'],\n",
    "           ['NoInfo', 'No', 'Mn', 'Av', 'Gd'],\n",
    "           ['NoInfo', 'Po', 'Fa', 'TA', 'Gd', 'Ex'],\n",
    "           ['NoInfo', 'Po', 'Fa', 'TA', 'Gd', 'Ex'],\n",
    "           ['NoInfo', 'Po', 'Fa', 'TA', 'Gd', 'Ex'],\n",
    "           ['NoInfo', 'Unf', 'RFn', 'Fin'],\n",
    "           ['NoInfo', 'Po', 'Fa', 'TA', 'Gd', 'Ex'],\n",
    "           ['NoInfo', 'Po', 'Fa', 'TA', 'Gd', 'Ex'],\n",
    "           ['NoInfo', 'Po', 'Fa', 'TA', 'Gd', 'Ex'],\n",
    "           ['NoInfo', 'MnWw', 'GdWo', 'MnPrv', 'GdPrv']]           "
   ]
  },
  {
   "cell_type": "code",
   "execution_count": 30,
   "id": "2f15225f-0dc2-419e-bd4b-b9f2a68e3f4e",
   "metadata": {},
   "outputs": [
    {
     "data": {
      "text/html": [
       "<style>#sk-container-id-1 {color: black;background-color: white;}#sk-container-id-1 pre{padding: 0;}#sk-container-id-1 div.sk-toggleable {background-color: white;}#sk-container-id-1 label.sk-toggleable__label {cursor: pointer;display: block;width: 100%;margin-bottom: 0;padding: 0.3em;box-sizing: border-box;text-align: center;}#sk-container-id-1 label.sk-toggleable__label-arrow:before {content: \"▸\";float: left;margin-right: 0.25em;color: #696969;}#sk-container-id-1 label.sk-toggleable__label-arrow:hover:before {color: black;}#sk-container-id-1 div.sk-estimator:hover label.sk-toggleable__label-arrow:before {color: black;}#sk-container-id-1 div.sk-toggleable__content {max-height: 0;max-width: 0;overflow: hidden;text-align: left;background-color: #f0f8ff;}#sk-container-id-1 div.sk-toggleable__content pre {margin: 0.2em;color: black;border-radius: 0.25em;background-color: #f0f8ff;}#sk-container-id-1 input.sk-toggleable__control:checked~div.sk-toggleable__content {max-height: 200px;max-width: 100%;overflow: auto;}#sk-container-id-1 input.sk-toggleable__control:checked~label.sk-toggleable__label-arrow:before {content: \"▾\";}#sk-container-id-1 div.sk-estimator input.sk-toggleable__control:checked~label.sk-toggleable__label {background-color: #d4ebff;}#sk-container-id-1 div.sk-label input.sk-toggleable__control:checked~label.sk-toggleable__label {background-color: #d4ebff;}#sk-container-id-1 input.sk-hidden--visually {border: 0;clip: rect(1px 1px 1px 1px);clip: rect(1px, 1px, 1px, 1px);height: 1px;margin: -1px;overflow: hidden;padding: 0;position: absolute;width: 1px;}#sk-container-id-1 div.sk-estimator {font-family: monospace;background-color: #f0f8ff;border: 1px dotted black;border-radius: 0.25em;box-sizing: border-box;margin-bottom: 0.5em;}#sk-container-id-1 div.sk-estimator:hover {background-color: #d4ebff;}#sk-container-id-1 div.sk-parallel-item::after {content: \"\";width: 100%;border-bottom: 1px solid gray;flex-grow: 1;}#sk-container-id-1 div.sk-label:hover label.sk-toggleable__label {background-color: #d4ebff;}#sk-container-id-1 div.sk-serial::before {content: \"\";position: absolute;border-left: 1px solid gray;box-sizing: border-box;top: 0;bottom: 0;left: 50%;z-index: 0;}#sk-container-id-1 div.sk-serial {display: flex;flex-direction: column;align-items: center;background-color: white;padding-right: 0.2em;padding-left: 0.2em;position: relative;}#sk-container-id-1 div.sk-item {position: relative;z-index: 1;}#sk-container-id-1 div.sk-parallel {display: flex;align-items: stretch;justify-content: center;background-color: white;position: relative;}#sk-container-id-1 div.sk-item::before, #sk-container-id-1 div.sk-parallel-item::before {content: \"\";position: absolute;border-left: 1px solid gray;box-sizing: border-box;top: 0;bottom: 0;left: 50%;z-index: -1;}#sk-container-id-1 div.sk-parallel-item {display: flex;flex-direction: column;z-index: 1;position: relative;background-color: white;}#sk-container-id-1 div.sk-parallel-item:first-child::after {align-self: flex-end;width: 50%;}#sk-container-id-1 div.sk-parallel-item:last-child::after {align-self: flex-start;width: 50%;}#sk-container-id-1 div.sk-parallel-item:only-child::after {width: 0;}#sk-container-id-1 div.sk-dashed-wrapped {border: 1px dashed gray;margin: 0 0.4em 0.5em 0.4em;box-sizing: border-box;padding-bottom: 0.4em;background-color: white;}#sk-container-id-1 div.sk-label label {font-family: monospace;font-weight: bold;display: inline-block;line-height: 1.2em;}#sk-container-id-1 div.sk-label-container {text-align: center;}#sk-container-id-1 div.sk-container {/* jupyter's `normalize.less` sets `[hidden] { display: none; }` but bootstrap.min.css set `[hidden] { display: none !important; }` so we also need the `!important` here to be able to override the default hidden behavior on the sphinx rendered scikit-learn.org. See: https://github.com/scikit-learn/scikit-learn/issues/21755 */display: inline-block !important;position: relative;}#sk-container-id-1 div.sk-text-repr-fallback {display: none;}</style><div id=\"sk-container-id-1\" class=\"sk-top-container\"><div class=\"sk-text-repr-fallback\"><pre>OrdinalEncoder(categories=[[&#x27;NoInfo&#x27;, &#x27;Po&#x27;, &#x27;Fa&#x27;, &#x27;TA&#x27;, &#x27;Gd&#x27;, &#x27;Ex&#x27;],\n",
       "                           [&#x27;NoInfo&#x27;, &#x27;Po&#x27;, &#x27;Fa&#x27;, &#x27;TA&#x27;, &#x27;Gd&#x27;, &#x27;Ex&#x27;],\n",
       "                           [&#x27;NoInfo&#x27;, &#x27;Po&#x27;, &#x27;Fa&#x27;, &#x27;TA&#x27;, &#x27;Gd&#x27;, &#x27;Ex&#x27;],\n",
       "                           [&#x27;NoInfo&#x27;, &#x27;Po&#x27;, &#x27;Fa&#x27;, &#x27;TA&#x27;, &#x27;Gd&#x27;, &#x27;Ex&#x27;],\n",
       "                           [&#x27;NoInfo&#x27;, &#x27;No&#x27;, &#x27;Mn&#x27;, &#x27;Av&#x27;, &#x27;Gd&#x27;],\n",
       "                           [&#x27;NoInfo&#x27;, &#x27;Po&#x27;, &#x27;Fa&#x27;, &#x27;TA&#x27;, &#x27;Gd&#x27;, &#x27;Ex&#x27;],\n",
       "                           [&#x27;NoInfo&#x27;, &#x27;Po&#x27;, &#x27;Fa&#x27;, &#x27;TA&#x27;, &#x27;Gd&#x27;, &#x27;Ex&#x27;],\n",
       "                           [&#x27;NoInfo&#x27;, &#x27;Po&#x27;, &#x27;Fa&#x27;, &#x27;TA&#x27;, &#x27;Gd&#x27;, &#x27;Ex&#x27;],\n",
       "                           [&#x27;NoInfo&#x27;, &#x27;Unf&#x27;, &#x27;RFn&#x27;, &#x27;Fin&#x27;],\n",
       "                           [&#x27;NoInfo&#x27;, &#x27;Po&#x27;, &#x27;Fa&#x27;, &#x27;TA&#x27;, &#x27;Gd&#x27;, &#x27;Ex&#x27;],\n",
       "                           [&#x27;NoInfo&#x27;, &#x27;Po&#x27;, &#x27;Fa&#x27;, &#x27;TA&#x27;, &#x27;Gd&#x27;, &#x27;Ex&#x27;],\n",
       "                           [&#x27;NoInfo&#x27;, &#x27;Po&#x27;, &#x27;Fa&#x27;, &#x27;TA&#x27;, &#x27;Gd&#x27;, &#x27;Ex&#x27;],\n",
       "                           [&#x27;NoInfo&#x27;, &#x27;MnWw&#x27;, &#x27;GdWo&#x27;, &#x27;MnPrv&#x27;, &#x27;GdPrv&#x27;]])</pre><b>In a Jupyter environment, please rerun this cell to show the HTML representation or trust the notebook. <br />On GitHub, the HTML representation is unable to render, please try loading this page with nbviewer.org.</b></div><div class=\"sk-container\" hidden><div class=\"sk-item\"><div class=\"sk-estimator sk-toggleable\"><input class=\"sk-toggleable__control sk-hidden--visually\" id=\"sk-estimator-id-1\" type=\"checkbox\" checked><label for=\"sk-estimator-id-1\" class=\"sk-toggleable__label sk-toggleable__label-arrow\">OrdinalEncoder</label><div class=\"sk-toggleable__content\"><pre>OrdinalEncoder(categories=[[&#x27;NoInfo&#x27;, &#x27;Po&#x27;, &#x27;Fa&#x27;, &#x27;TA&#x27;, &#x27;Gd&#x27;, &#x27;Ex&#x27;],\n",
       "                           [&#x27;NoInfo&#x27;, &#x27;Po&#x27;, &#x27;Fa&#x27;, &#x27;TA&#x27;, &#x27;Gd&#x27;, &#x27;Ex&#x27;],\n",
       "                           [&#x27;NoInfo&#x27;, &#x27;Po&#x27;, &#x27;Fa&#x27;, &#x27;TA&#x27;, &#x27;Gd&#x27;, &#x27;Ex&#x27;],\n",
       "                           [&#x27;NoInfo&#x27;, &#x27;Po&#x27;, &#x27;Fa&#x27;, &#x27;TA&#x27;, &#x27;Gd&#x27;, &#x27;Ex&#x27;],\n",
       "                           [&#x27;NoInfo&#x27;, &#x27;No&#x27;, &#x27;Mn&#x27;, &#x27;Av&#x27;, &#x27;Gd&#x27;],\n",
       "                           [&#x27;NoInfo&#x27;, &#x27;Po&#x27;, &#x27;Fa&#x27;, &#x27;TA&#x27;, &#x27;Gd&#x27;, &#x27;Ex&#x27;],\n",
       "                           [&#x27;NoInfo&#x27;, &#x27;Po&#x27;, &#x27;Fa&#x27;, &#x27;TA&#x27;, &#x27;Gd&#x27;, &#x27;Ex&#x27;],\n",
       "                           [&#x27;NoInfo&#x27;, &#x27;Po&#x27;, &#x27;Fa&#x27;, &#x27;TA&#x27;, &#x27;Gd&#x27;, &#x27;Ex&#x27;],\n",
       "                           [&#x27;NoInfo&#x27;, &#x27;Unf&#x27;, &#x27;RFn&#x27;, &#x27;Fin&#x27;],\n",
       "                           [&#x27;NoInfo&#x27;, &#x27;Po&#x27;, &#x27;Fa&#x27;, &#x27;TA&#x27;, &#x27;Gd&#x27;, &#x27;Ex&#x27;],\n",
       "                           [&#x27;NoInfo&#x27;, &#x27;Po&#x27;, &#x27;Fa&#x27;, &#x27;TA&#x27;, &#x27;Gd&#x27;, &#x27;Ex&#x27;],\n",
       "                           [&#x27;NoInfo&#x27;, &#x27;Po&#x27;, &#x27;Fa&#x27;, &#x27;TA&#x27;, &#x27;Gd&#x27;, &#x27;Ex&#x27;],\n",
       "                           [&#x27;NoInfo&#x27;, &#x27;MnWw&#x27;, &#x27;GdWo&#x27;, &#x27;MnPrv&#x27;, &#x27;GdPrv&#x27;]])</pre></div></div></div></div></div>"
      ],
      "text/plain": [
       "OrdinalEncoder(categories=[['NoInfo', 'Po', 'Fa', 'TA', 'Gd', 'Ex'],\n",
       "                           ['NoInfo', 'Po', 'Fa', 'TA', 'Gd', 'Ex'],\n",
       "                           ['NoInfo', 'Po', 'Fa', 'TA', 'Gd', 'Ex'],\n",
       "                           ['NoInfo', 'Po', 'Fa', 'TA', 'Gd', 'Ex'],\n",
       "                           ['NoInfo', 'No', 'Mn', 'Av', 'Gd'],\n",
       "                           ['NoInfo', 'Po', 'Fa', 'TA', 'Gd', 'Ex'],\n",
       "                           ['NoInfo', 'Po', 'Fa', 'TA', 'Gd', 'Ex'],\n",
       "                           ['NoInfo', 'Po', 'Fa', 'TA', 'Gd', 'Ex'],\n",
       "                           ['NoInfo', 'Unf', 'RFn', 'Fin'],\n",
       "                           ['NoInfo', 'Po', 'Fa', 'TA', 'Gd', 'Ex'],\n",
       "                           ['NoInfo', 'Po', 'Fa', 'TA', 'Gd', 'Ex'],\n",
       "                           ['NoInfo', 'Po', 'Fa', 'TA', 'Gd', 'Ex'],\n",
       "                           ['NoInfo', 'MnWw', 'GdWo', 'MnPrv', 'GdPrv']])"
      ]
     },
     "execution_count": 30,
     "metadata": {},
     "output_type": "execute_result"
    }
   ],
   "source": [
    "from sklearn.preprocessing import LabelEncoder\n",
    "from sklearn.preprocessing import OrdinalEncoder\n",
    "ordinal_enc = OrdinalEncoder(categories = map_ord)\n",
    "ordinal_enc.fit(x_enc)"
   ]
  },
  {
   "cell_type": "code",
   "execution_count": 31,
   "id": "b33c3e13-4098-448c-a20b-657e2c7f82d9",
   "metadata": {
    "tags": []
   },
   "outputs": [
    {
     "data": {
      "text/plain": [
       "[array(['NoInfo', 'Po', 'Fa', 'TA', 'Gd', 'Ex'], dtype=object),\n",
       " array(['NoInfo', 'Po', 'Fa', 'TA', 'Gd', 'Ex'], dtype=object),\n",
       " array(['NoInfo', 'Po', 'Fa', 'TA', 'Gd', 'Ex'], dtype=object),\n",
       " array(['NoInfo', 'Po', 'Fa', 'TA', 'Gd', 'Ex'], dtype=object),\n",
       " array(['NoInfo', 'No', 'Mn', 'Av', 'Gd'], dtype=object),\n",
       " array(['NoInfo', 'Po', 'Fa', 'TA', 'Gd', 'Ex'], dtype=object),\n",
       " array(['NoInfo', 'Po', 'Fa', 'TA', 'Gd', 'Ex'], dtype=object),\n",
       " array(['NoInfo', 'Po', 'Fa', 'TA', 'Gd', 'Ex'], dtype=object),\n",
       " array(['NoInfo', 'Unf', 'RFn', 'Fin'], dtype=object),\n",
       " array(['NoInfo', 'Po', 'Fa', 'TA', 'Gd', 'Ex'], dtype=object),\n",
       " array(['NoInfo', 'Po', 'Fa', 'TA', 'Gd', 'Ex'], dtype=object),\n",
       " array(['NoInfo', 'Po', 'Fa', 'TA', 'Gd', 'Ex'], dtype=object),\n",
       " array(['NoInfo', 'MnWw', 'GdWo', 'MnPrv', 'GdPrv'], dtype=object)]"
      ]
     },
     "execution_count": 31,
     "metadata": {},
     "output_type": "execute_result"
    }
   ],
   "source": [
    "ordinal_enc.categories_"
   ]
  },
  {
   "cell_type": "code",
   "execution_count": 32,
   "id": "a6be1dcd-f2a6-439c-809b-a6d54047da00",
   "metadata": {},
   "outputs": [],
   "source": [
    "x_enc = ordinal_enc.transform(x_enc)"
   ]
  },
  {
   "cell_type": "code",
   "execution_count": 33,
   "id": "33b49211-3f8a-4ebe-a3b4-21afddf3011f",
   "metadata": {},
   "outputs": [],
   "source": [
    "enc_df[cols_ord] = x_enc"
   ]
  },
  {
   "cell_type": "code",
   "execution_count": 34,
   "id": "45e1d806-03e0-4859-9020-ef6d8434ead8",
   "metadata": {},
   "outputs": [],
   "source": [
    "y_enc = np.log(1+enc_df['SalePrice'])"
   ]
  },
  {
   "cell_type": "code",
   "execution_count": 35,
   "id": "461a96d0-dd83-4b5e-b96b-d6dc5dd1c5e0",
   "metadata": {},
   "outputs": [
    {
     "name": "stdout",
     "output_type": "stream",
     "text": [
      "0       12.247699\n",
      "1       12.109016\n",
      "2       12.317171\n",
      "3       11.849405\n",
      "4       12.429220\n",
      "          ...    \n",
      "1455    12.072547\n",
      "1456    12.254868\n",
      "1457    12.493133\n",
      "1458    11.864469\n",
      "1459    11.901590\n",
      "Name: SalePrice, Length: 1452, dtype: float64 0       208500\n",
      "1       181500\n",
      "2       223500\n",
      "3       140000\n",
      "4       250000\n",
      "         ...  \n",
      "1455    175000\n",
      "1456    210000\n",
      "1457    266500\n",
      "1458    142125\n",
      "1459    147500\n",
      "Name: SalePrice, Length: 1452, dtype: int64\n"
     ]
    }
   ],
   "source": [
    "print(y_enc, enc_df['SalePrice'])"
   ]
  },
  {
   "cell_type": "markdown",
   "id": "205ae082-b2de-4936-9b21-09db0f7173e8",
   "metadata": {},
   "source": [
    "## Separate train and test subsets(and transform target variable)"
   ]
  },
  {
   "cell_type": "code",
   "execution_count": 36,
   "id": "f6504b6f-9d07-4028-8453-388a179078f1",
   "metadata": {},
   "outputs": [],
   "source": [
    "from sklearn.model_selection import train_test_split\n",
    "data = enc_df.to_numpy()\n",
    "Id = enc_df.pop('Id')\n",
    "y = np.log(1+enc_df.pop('SalePrice'))\n",
    "X = enc_df\n",
    "X_train, X_test, y_train, y_test = train_test_split(X, y, test_size=0.33, random_state=42) "
   ]
  },
  {
   "cell_type": "code",
   "execution_count": 37,
   "id": "17007763-323d-45f8-9cc7-d769c4ac563a",
   "metadata": {},
   "outputs": [
    {
     "data": {
      "text/plain": [
       "(1452, 235)"
      ]
     },
     "execution_count": 37,
     "metadata": {},
     "output_type": "execute_result"
    }
   ],
   "source": [
    "pd.set_option('display.max_rows', 500)\n",
    "X.shape"
   ]
  },
  {
   "cell_type": "markdown",
   "id": "1fa1a6be-646d-49f3-af65-762a576e20c1",
   "metadata": {},
   "source": [
    "# Feature Selection with RandomForestRegressor and Recursive Feature Elimination"
   ]
  },
  {
   "cell_type": "code",
   "execution_count": 38,
   "id": "e0a5a288-d600-4e01-8ded-e77f619c474a",
   "metadata": {},
   "outputs": [
    {
     "name": "stdout",
     "output_type": "stream",
     "text": [
      "CPU times: user 12min 1s, sys: 602 ms, total: 12min 1s\n",
      "Wall time: 12min 1s\n"
     ]
    },
    {
     "data": {
      "text/html": [
       "<style>#sk-container-id-2 {color: black;background-color: white;}#sk-container-id-2 pre{padding: 0;}#sk-container-id-2 div.sk-toggleable {background-color: white;}#sk-container-id-2 label.sk-toggleable__label {cursor: pointer;display: block;width: 100%;margin-bottom: 0;padding: 0.3em;box-sizing: border-box;text-align: center;}#sk-container-id-2 label.sk-toggleable__label-arrow:before {content: \"▸\";float: left;margin-right: 0.25em;color: #696969;}#sk-container-id-2 label.sk-toggleable__label-arrow:hover:before {color: black;}#sk-container-id-2 div.sk-estimator:hover label.sk-toggleable__label-arrow:before {color: black;}#sk-container-id-2 div.sk-toggleable__content {max-height: 0;max-width: 0;overflow: hidden;text-align: left;background-color: #f0f8ff;}#sk-container-id-2 div.sk-toggleable__content pre {margin: 0.2em;color: black;border-radius: 0.25em;background-color: #f0f8ff;}#sk-container-id-2 input.sk-toggleable__control:checked~div.sk-toggleable__content {max-height: 200px;max-width: 100%;overflow: auto;}#sk-container-id-2 input.sk-toggleable__control:checked~label.sk-toggleable__label-arrow:before {content: \"▾\";}#sk-container-id-2 div.sk-estimator input.sk-toggleable__control:checked~label.sk-toggleable__label {background-color: #d4ebff;}#sk-container-id-2 div.sk-label input.sk-toggleable__control:checked~label.sk-toggleable__label {background-color: #d4ebff;}#sk-container-id-2 input.sk-hidden--visually {border: 0;clip: rect(1px 1px 1px 1px);clip: rect(1px, 1px, 1px, 1px);height: 1px;margin: -1px;overflow: hidden;padding: 0;position: absolute;width: 1px;}#sk-container-id-2 div.sk-estimator {font-family: monospace;background-color: #f0f8ff;border: 1px dotted black;border-radius: 0.25em;box-sizing: border-box;margin-bottom: 0.5em;}#sk-container-id-2 div.sk-estimator:hover {background-color: #d4ebff;}#sk-container-id-2 div.sk-parallel-item::after {content: \"\";width: 100%;border-bottom: 1px solid gray;flex-grow: 1;}#sk-container-id-2 div.sk-label:hover label.sk-toggleable__label {background-color: #d4ebff;}#sk-container-id-2 div.sk-serial::before {content: \"\";position: absolute;border-left: 1px solid gray;box-sizing: border-box;top: 0;bottom: 0;left: 50%;z-index: 0;}#sk-container-id-2 div.sk-serial {display: flex;flex-direction: column;align-items: center;background-color: white;padding-right: 0.2em;padding-left: 0.2em;position: relative;}#sk-container-id-2 div.sk-item {position: relative;z-index: 1;}#sk-container-id-2 div.sk-parallel {display: flex;align-items: stretch;justify-content: center;background-color: white;position: relative;}#sk-container-id-2 div.sk-item::before, #sk-container-id-2 div.sk-parallel-item::before {content: \"\";position: absolute;border-left: 1px solid gray;box-sizing: border-box;top: 0;bottom: 0;left: 50%;z-index: -1;}#sk-container-id-2 div.sk-parallel-item {display: flex;flex-direction: column;z-index: 1;position: relative;background-color: white;}#sk-container-id-2 div.sk-parallel-item:first-child::after {align-self: flex-end;width: 50%;}#sk-container-id-2 div.sk-parallel-item:last-child::after {align-self: flex-start;width: 50%;}#sk-container-id-2 div.sk-parallel-item:only-child::after {width: 0;}#sk-container-id-2 div.sk-dashed-wrapped {border: 1px dashed gray;margin: 0 0.4em 0.5em 0.4em;box-sizing: border-box;padding-bottom: 0.4em;background-color: white;}#sk-container-id-2 div.sk-label label {font-family: monospace;font-weight: bold;display: inline-block;line-height: 1.2em;}#sk-container-id-2 div.sk-label-container {text-align: center;}#sk-container-id-2 div.sk-container {/* jupyter's `normalize.less` sets `[hidden] { display: none; }` but bootstrap.min.css set `[hidden] { display: none !important; }` so we also need the `!important` here to be able to override the default hidden behavior on the sphinx rendered scikit-learn.org. See: https://github.com/scikit-learn/scikit-learn/issues/21755 */display: inline-block !important;position: relative;}#sk-container-id-2 div.sk-text-repr-fallback {display: none;}</style><div id=\"sk-container-id-2\" class=\"sk-top-container\"><div class=\"sk-text-repr-fallback\"><pre>RFE(estimator=RandomForestRegressor(random_state=42), n_features_to_select=0.1)</pre><b>In a Jupyter environment, please rerun this cell to show the HTML representation or trust the notebook. <br />On GitHub, the HTML representation is unable to render, please try loading this page with nbviewer.org.</b></div><div class=\"sk-container\" hidden><div class=\"sk-item sk-dashed-wrapped\"><div class=\"sk-label-container\"><div class=\"sk-label sk-toggleable\"><input class=\"sk-toggleable__control sk-hidden--visually\" id=\"sk-estimator-id-2\" type=\"checkbox\" ><label for=\"sk-estimator-id-2\" class=\"sk-toggleable__label sk-toggleable__label-arrow\">RFE</label><div class=\"sk-toggleable__content\"><pre>RFE(estimator=RandomForestRegressor(random_state=42), n_features_to_select=0.1)</pre></div></div></div><div class=\"sk-parallel\"><div class=\"sk-parallel-item\"><div class=\"sk-item\"><div class=\"sk-label-container\"><div class=\"sk-label sk-toggleable\"><input class=\"sk-toggleable__control sk-hidden--visually\" id=\"sk-estimator-id-3\" type=\"checkbox\" ><label for=\"sk-estimator-id-3\" class=\"sk-toggleable__label sk-toggleable__label-arrow\">estimator: RandomForestRegressor</label><div class=\"sk-toggleable__content\"><pre>RandomForestRegressor(random_state=42)</pre></div></div></div><div class=\"sk-serial\"><div class=\"sk-item\"><div class=\"sk-estimator sk-toggleable\"><input class=\"sk-toggleable__control sk-hidden--visually\" id=\"sk-estimator-id-4\" type=\"checkbox\" ><label for=\"sk-estimator-id-4\" class=\"sk-toggleable__label sk-toggleable__label-arrow\">RandomForestRegressor</label><div class=\"sk-toggleable__content\"><pre>RandomForestRegressor(random_state=42)</pre></div></div></div></div></div></div></div></div></div></div>"
      ],
      "text/plain": [
       "RFE(estimator=RandomForestRegressor(random_state=42), n_features_to_select=0.1)"
      ]
     },
     "execution_count": 38,
     "metadata": {},
     "output_type": "execute_result"
    }
   ],
   "source": [
    "%%time\n",
    "from sklearn.ensemble import RandomForestRegressor\n",
    "from sklearn.feature_selection import RFE\n",
    "clf = RandomForestRegressor(n_estimators = 100, random_state=42)\n",
    "sel = RFE(estimator=clf, n_features_to_select=0.1, step=1)\n",
    "sel.fit(X_train, y_train)"
   ]
  },
  {
   "cell_type": "code",
   "execution_count": 43,
   "id": "c24be0ae-2d11-46bd-abaf-c0e12855fcbf",
   "metadata": {},
   "outputs": [
    {
     "data": {
      "text/plain": [
       "23"
      ]
     },
     "execution_count": 43,
     "metadata": {},
     "output_type": "execute_result"
    }
   ],
   "source": [
    "selected_feat= X_train.columns[(sel.get_support())]\n",
    "len(selected_feat)"
   ]
  },
  {
   "cell_type": "code",
   "execution_count": 44,
   "id": "5692302e-58de-4382-8a3b-f6c9c2eb9d57",
   "metadata": {},
   "outputs": [
    {
     "data": {
      "text/plain": [
       "Index(['LotFrontage', 'LotArea', 'OverallQual', 'OverallCond', 'YearBuilt',\n",
       "       'YearRemodAdd', 'MasVnrArea', 'ExterQual', 'BsmtQual', 'BsmtFinSF1',\n",
       "       'BsmtUnfSF', 'TotalBsmtSF', '1stFlrSF', '2ndFlrSF', 'GrLivArea',\n",
       "       'KitchenQual', 'GarageYrBlt', 'GarageFinish', 'GarageCars',\n",
       "       'GarageArea', 'OpenPorchSF', 'MoSold', 'GarageType_Detchd'],\n",
       "      dtype='object')"
      ]
     },
     "execution_count": 44,
     "metadata": {},
     "output_type": "execute_result"
    }
   ],
   "source": [
    "selected_feat"
   ]
  },
  {
   "cell_type": "code",
   "execution_count": 45,
   "id": "cb4d2161-7152-4be3-822a-ea0ccb95e554",
   "metadata": {
    "tags": []
   },
   "outputs": [],
   "source": [
    "sel_train = X_train[selected_feat]\n",
    "sel_test = X_test[selected_feat]"
   ]
  },
  {
   "cell_type": "markdown",
   "id": "84a563dd-ba31-4e83-96c6-70b2b171e76b",
   "metadata": {
    "tags": []
   },
   "source": [
    "# Train Regression Models with Selected Features"
   ]
  },
  {
   "cell_type": "markdown",
   "id": "9c468a49-28e5-46d9-8ebd-7c8369205b34",
   "metadata": {},
   "source": [
    "### LinearRegression"
   ]
  },
  {
   "cell_type": "code",
   "execution_count": 46,
   "id": "d8c2097d-2092-4570-9762-a0dabf9ced2f",
   "metadata": {},
   "outputs": [],
   "source": [
    "from sklearn.linear_model import LinearRegression\n",
    "linreg=LinearRegression()\n",
    "linreg.fit(sel_train,y_train)\n",
    "y_linreg=linreg.predict(sel_test)"
   ]
  },
  {
   "cell_type": "markdown",
   "id": "52912cfc-ede0-451c-97d8-8abf40e6c13b",
   "metadata": {
    "tags": []
   },
   "source": [
    "### Ridge Regression"
   ]
  },
  {
   "cell_type": "code",
   "execution_count": 47,
   "id": "2e4f2e19-0895-40f4-ba64-fefb12e8e78d",
   "metadata": {},
   "outputs": [],
   "source": [
    "from sklearn.linear_model import Ridge\n",
    "ridgereg=Ridge()\n",
    "ridgereg.fit(sel_train,y_train)\n",
    "y_ridge=ridgereg.predict(sel_test)"
   ]
  },
  {
   "cell_type": "markdown",
   "id": "32696985-549f-4d66-ab7b-c991492e7065",
   "metadata": {},
   "source": [
    "### Lasso Regression"
   ]
  },
  {
   "cell_type": "code",
   "execution_count": 49,
   "id": "287653ce-9b4e-4f1b-8f34-9dbaa2bb82f3",
   "metadata": {},
   "outputs": [],
   "source": [
    "from sklearn.linear_model import Lasso\n",
    "lassoreg=Lasso()\n",
    "lassoreg.fit(sel_train,y_train)\n",
    "y_lasso=lassoreg.predict(sel_test)"
   ]
  },
  {
   "cell_type": "markdown",
   "id": "1e11cbe2-e2ce-4ead-89ce-6eda1bcb8057",
   "metadata": {},
   "source": [
    "### Random Forest Regression"
   ]
  },
  {
   "cell_type": "code",
   "execution_count": 50,
   "id": "64a47c43-b4c3-4536-a322-ca6f4f622e8d",
   "metadata": {},
   "outputs": [],
   "source": [
    "from sklearn.ensemble import RandomForestRegressor\n",
    "rfreg=RandomForestRegressor()\n",
    "rfreg.fit(sel_train,y_train)\n",
    "y_rf=rfreg.predict(sel_test)"
   ]
  },
  {
   "cell_type": "markdown",
   "id": "a8cf4fe7-6246-43cf-acc4-3109155a724e",
   "metadata": {
    "tags": []
   },
   "source": [
    "# Model Evaluation with MSE and $R^2$"
   ]
  },
  {
   "cell_type": "code",
   "execution_count": 53,
   "id": "b3179d80-d6b1-40a5-950d-2c9b6da3d3fc",
   "metadata": {},
   "outputs": [
    {
     "name": "stdout",
     "output_type": "stream",
     "text": [
      "Linear Regression: MSE=  0.02721808514074553   | R2=  0.8329168422123578\n",
      "Ridge Regression:  MSE=  0.027194052952456582  | R2=  0.8330643681638383\n",
      "Lasso Regression:  MSE=  0.035627424670156733  | R2=  0.7812945845767869\n",
      "Random Forest Reg: MSE=  0.022976741132817245  | R2=  0.8589531025313283\n"
     ]
    }
   ],
   "source": [
    "from sklearn.metrics import mean_squared_error, r2_score\n",
    "linmse=mean_squared_error(y_test,y_linreg)\n",
    "ridgemse=mean_squared_error(y_test,y_ridge)\n",
    "lassomse=mean_squared_error(y_test, y_lasso)\n",
    "rfmse=mean_squared_error(y_test,y_rf)\n",
    "linr2=r2_score(y_test,y_linreg)\n",
    "ridger2=r2_score(y_test,y_ridge)\n",
    "lassor2=r2_score(y_test,y_lasso)\n",
    "rfr2=r2_score(y_test,y_rf)\n",
    "print('Linear Regression: MSE= ', linmse,'  | R2= ',linr2)\n",
    "print('Ridge Regression:  MSE= ', ridgemse, ' | R2= ', ridger2)\n",
    "print('Lasso Regression:  MSE= ', lassomse, ' | R2= ', lassor2)\n",
    "print('Random Forest Reg: MSE= ', rfmse, ' | R2= ', rfr2)"
   ]
  },
  {
   "cell_type": "markdown",
   "id": "428371c7-c6e4-4f3a-b1b0-a56a37048915",
   "metadata": {
    "tags": []
   },
   "source": [
    "## Probando"
   ]
  },
  {
   "cell_type": "code",
   "execution_count": null,
   "id": "e40e4c45-3511-427a-87e2-4a168a3c70b5",
   "metadata": {},
   "outputs": [],
   "source": [
    "prof = ProfileReport(df)"
   ]
  },
  {
   "cell_type": "code",
   "execution_count": null,
   "id": "d7811eb1-c432-4dc5-8c9b-de23cedcaad8",
   "metadata": {},
   "outputs": [],
   "source": [
    "#prof.to_file(output_file='profilehousetrain.html')"
   ]
  }
 ],
 "metadata": {
  "kernelspec": {
   "display_name": "Python 3 (ipykernel)",
   "language": "python",
   "name": "python3"
  },
  "language_info": {
   "codemirror_mode": {
    "name": "ipython",
    "version": 3
   },
   "file_extension": ".py",
   "mimetype": "text/x-python",
   "name": "python",
   "nbconvert_exporter": "python",
   "pygments_lexer": "ipython3",
   "version": "3.10.8"
  }
 },
 "nbformat": 4,
 "nbformat_minor": 5
}
