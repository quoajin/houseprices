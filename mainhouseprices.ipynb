{
 "cells": [
  {
   "cell_type": "code",
   "execution_count": 130,
   "id": "297533a2-793b-4ae1-b7dc-d792a36dcbf3",
   "metadata": {},
   "outputs": [],
   "source": [
    "import pandas as pd\n",
    "import numpy as np"
   ]
  },
  {
   "cell_type": "code",
   "execution_count": 131,
   "id": "3c346f8a-5bcc-4bc9-ae72-5816841cbf80",
   "metadata": {},
   "outputs": [],
   "source": [
    "from pandas_profiling import ProfileReport"
   ]
  },
  {
   "cell_type": "code",
   "execution_count": 132,
   "id": "4c93aced-d56d-477e-8ffc-8a59e774b7c3",
   "metadata": {},
   "outputs": [],
   "source": [
    "df = pd.read_csv('train.csv')"
   ]
  },
  {
   "cell_type": "code",
   "execution_count": 133,
   "id": "2b49f299-1264-45ce-ab27-5b7db8c14500",
   "metadata": {},
   "outputs": [],
   "source": [
    "pd.set_option('display.max_rows', 100)"
   ]
  },
  {
   "cell_type": "markdown",
   "id": "fefa8ea0-afb7-44a5-a5fc-d202f694159a",
   "metadata": {},
   "source": [
    "## Separate features by type"
   ]
  },
  {
   "cell_type": "code",
   "execution_count": 134,
   "id": "c1572283-5d1a-45d7-a88c-710ae40675a6",
   "metadata": {},
   "outputs": [
    {
     "data": {
      "text/plain": [
       "Index(['Id', 'MSSubClass', 'MSZoning', 'LotFrontage', 'LotArea', 'Street',\n",
       "       'Alley', 'LotShape', 'LandContour', 'Utilities', 'LotConfig',\n",
       "       'LandSlope', 'Neighborhood', 'Condition1', 'Condition2', 'BldgType',\n",
       "       'HouseStyle', 'OverallQual', 'OverallCond', 'YearBuilt', 'YearRemodAdd',\n",
       "       'RoofStyle', 'RoofMatl', 'Exterior1st', 'Exterior2nd', 'MasVnrType',\n",
       "       'MasVnrArea', 'ExterQual', 'ExterCond', 'Foundation', 'BsmtQual',\n",
       "       'BsmtCond', 'BsmtExposure', 'BsmtFinType1', 'BsmtFinSF1',\n",
       "       'BsmtFinType2', 'BsmtFinSF2', 'BsmtUnfSF', 'TotalBsmtSF', 'Heating',\n",
       "       'HeatingQC', 'CentralAir', 'Electrical', '1stFlrSF', '2ndFlrSF',\n",
       "       'LowQualFinSF', 'GrLivArea', 'BsmtFullBath', 'BsmtHalfBath', 'FullBath',\n",
       "       'HalfBath', 'BedroomAbvGr', 'KitchenAbvGr', 'KitchenQual',\n",
       "       'TotRmsAbvGrd', 'Functional', 'Fireplaces', 'FireplaceQu', 'GarageType',\n",
       "       'GarageYrBlt', 'GarageFinish', 'GarageCars', 'GarageArea', 'GarageQual',\n",
       "       'GarageCond', 'PavedDrive', 'WoodDeckSF', 'OpenPorchSF',\n",
       "       'EnclosedPorch', '3SsnPorch', 'ScreenPorch', 'PoolArea', 'PoolQC',\n",
       "       'Fence', 'MiscFeature', 'MiscVal', 'MoSold', 'YrSold', 'SaleType',\n",
       "       'SaleCondition', 'SalePrice'],\n",
       "      dtype='object')"
      ]
     },
     "execution_count": 134,
     "metadata": {},
     "output_type": "execute_result"
    }
   ],
   "source": [
    "df.columns"
   ]
  },
  {
   "cell_type": "markdown",
   "id": "e0ce6cce-4b9c-4f66-a0ab-5a9333b400bd",
   "metadata": {},
   "source": [
    "### Select categorical features"
   ]
  },
  {
   "cell_type": "code",
   "execution_count": 135,
   "id": "de4c2090-e7de-4789-b37b-cb7ab2c9c992",
   "metadata": {},
   "outputs": [],
   "source": [
    "cols_cat = ['MSSubClass', 'MSZoning', 'Street', 'Alley', 'LotShape', 'LandContour', 'Utilities', 'LotConfig',\n",
    "        'LandSlope', 'Neighborhood', 'Condition1', 'Condition2', 'BldgType', 'HouseStyle', 'RoofStyle', 'RoofMatl',\n",
    "        'Exterior1st', 'Exterior2nd', 'MasVnrType', 'Foundation', 'BsmtFinType1', 'BsmtFinType2', 'Heating', \n",
    "        'CentralAir', 'Electrical', 'Functional', 'GarageType', 'PavedDrive', 'MiscFeature', 'SaleType', 'SaleCondition']"
   ]
  },
  {
   "cell_type": "code",
   "execution_count": 136,
   "id": "abd80d08-b362-43fe-9878-32161afe395b",
   "metadata": {},
   "outputs": [],
   "source": [
    "df[cols_cat] = df[cols_cat].astype('string')"
   ]
  },
  {
   "cell_type": "markdown",
   "id": "50d15717-ba6d-41ca-b561-c1a875ee59e8",
   "metadata": {},
   "source": [
    "### Select numeric features"
   ]
  },
  {
   "cell_type": "code",
   "execution_count": 137,
   "id": "fcb54e89-5dbb-4f59-a31e-36f75470172e",
   "metadata": {},
   "outputs": [
    {
     "data": {
      "text/plain": [
       "Index(['Id', 'LotFrontage', 'LotArea', 'OverallQual', 'OverallCond',\n",
       "       'YearBuilt', 'YearRemodAdd', 'MasVnrArea', 'BsmtFinSF1', 'BsmtFinSF2',\n",
       "       'BsmtUnfSF', 'TotalBsmtSF', '1stFlrSF', '2ndFlrSF', 'LowQualFinSF',\n",
       "       'GrLivArea', 'BsmtFullBath', 'BsmtHalfBath', 'FullBath', 'HalfBath',\n",
       "       'BedroomAbvGr', 'KitchenAbvGr', 'TotRmsAbvGrd', 'Fireplaces',\n",
       "       'GarageYrBlt', 'GarageCars', 'GarageArea', 'WoodDeckSF', 'OpenPorchSF',\n",
       "       'EnclosedPorch', '3SsnPorch', 'ScreenPorch', 'PoolArea', 'MiscVal',\n",
       "       'MoSold', 'YrSold', 'SalePrice'],\n",
       "      dtype='object')"
      ]
     },
     "execution_count": 137,
     "metadata": {},
     "output_type": "execute_result"
    }
   ],
   "source": [
    "df.select_dtypes(exclude = ['object', 'string']).columns"
   ]
  },
  {
   "cell_type": "code",
   "execution_count": 138,
   "id": "0f021c51-c883-4cee-b780-ca93b5f09cb4",
   "metadata": {},
   "outputs": [],
   "source": [
    "cols_num = ['LotFrontage', 'LotArea','YearBuilt', 'YearRemodAdd', 'MasVnrArea', 'BsmtFinSF1', 'BsmtFinSF2',\n",
    "       'BsmtUnfSF', 'TotalBsmtSF', '1stFlrSF', '2ndFlrSF', 'LowQualFinSF',\n",
    "       'GrLivArea', 'BsmtFullBath', 'BsmtHalfBath', 'FullBath', 'HalfBath',\n",
    "       'BedroomAbvGr', 'KitchenAbvGr', 'TotRmsAbvGrd', 'Fireplaces',\n",
    "       'GarageYrBlt', 'GarageCars', 'GarageArea', 'WoodDeckSF', 'OpenPorchSF','EnclosedPorch', '3SsnPorch', 'ScreenPorch', 'PoolArea', 'MiscVal',\n",
    "       'MoSold', 'YrSold', 'SalePrice']"
   ]
  },
  {
   "cell_type": "code",
   "execution_count": 139,
   "id": "1ceb5cf5-5c79-4ee6-8f27-b47ccf128e94",
   "metadata": {},
   "outputs": [
    {
     "data": {
      "text/plain": [
       "list"
      ]
     },
     "execution_count": 139,
     "metadata": {},
     "output_type": "execute_result"
    }
   ],
   "source": [
    "type(cols_num)"
   ]
  },
  {
   "cell_type": "markdown",
   "id": "1d0df323-eb56-42f3-863d-9f36fff5ad0a",
   "metadata": {},
   "source": [
    "### Select ordinal categories (remove Id)"
   ]
  },
  {
   "cell_type": "code",
   "execution_count": 140,
   "id": "7b0246ed-9a3e-44ef-890c-f1fa600b9878",
   "metadata": {},
   "outputs": [],
   "source": [
    "cols_ord = [col for col in df.columns if col not in cols_cat + cols_num]"
   ]
  },
  {
   "cell_type": "code",
   "execution_count": 141,
   "id": "52e6e0f9-56be-41b1-8741-3692caebf4dc",
   "metadata": {
    "tags": []
   },
   "outputs": [],
   "source": [
    "cols_ord.remove(\"Id\")"
   ]
  },
  {
   "cell_type": "code",
   "execution_count": 142,
   "id": "c948bc68-b46e-41ef-b8d6-c9d98b73bb1d",
   "metadata": {
    "tags": []
   },
   "outputs": [
    {
     "data": {
      "text/plain": [
       "list"
      ]
     },
     "execution_count": 142,
     "metadata": {},
     "output_type": "execute_result"
    }
   ],
   "source": [
    "type(cols_ord)"
   ]
  },
  {
   "cell_type": "markdown",
   "id": "5a285491-46ab-4d07-b91e-35aeacd8e09d",
   "metadata": {},
   "source": [
    "## Impute NaNs"
   ]
  },
  {
   "cell_type": "code",
   "execution_count": 143,
   "id": "8f50816d-e938-4bd4-ab96-1aa4fa6160a5",
   "metadata": {
    "tags": []
   },
   "outputs": [],
   "source": [
    "df_nans = df.isna().sum().reset_index().rename(columns={0:'num_nans', 'index':'col_names'})"
   ]
  },
  {
   "cell_type": "code",
   "execution_count": 144,
   "id": "79d0102d-8344-407e-9e78-4a9882ebed86",
   "metadata": {},
   "outputs": [],
   "source": [
    "cols_with_nans = df_nans[df_nans.num_nans != 0].col_names.to_list()"
   ]
  },
  {
   "cell_type": "code",
   "execution_count": 145,
   "id": "4a337c2b-0dfc-4c51-9d3b-b696b56d8e0e",
   "metadata": {
    "tags": []
   },
   "outputs": [
    {
     "data": {
      "text/plain": [
       "LotFrontage     float64\n",
       "Alley            string\n",
       "MasVnrType       string\n",
       "MasVnrArea      float64\n",
       "BsmtQual         object\n",
       "BsmtCond         object\n",
       "BsmtExposure     object\n",
       "BsmtFinType1     string\n",
       "BsmtFinType2     string\n",
       "Electrical       string\n",
       "FireplaceQu      object\n",
       "GarageType       string\n",
       "GarageYrBlt     float64\n",
       "GarageFinish     object\n",
       "GarageQual       object\n",
       "GarageCond       object\n",
       "PoolQC           object\n",
       "Fence            object\n",
       "MiscFeature      string\n",
       "dtype: object"
      ]
     },
     "execution_count": 145,
     "metadata": {},
     "output_type": "execute_result"
    }
   ],
   "source": [
    "df[cols_with_nans].dtypes"
   ]
  },
  {
   "cell_type": "code",
   "execution_count": 146,
   "id": "48df47a4-be0f-4b24-8a44-973ea0632d1b",
   "metadata": {
    "tags": []
   },
   "outputs": [],
   "source": [
    "cols_cat_with_nans = list(set(cols_with_nans) & set(cols_cat))"
   ]
  },
  {
   "cell_type": "code",
   "execution_count": 147,
   "id": "790e011c-1ed1-40b2-8aef-238ed6ab06e6",
   "metadata": {
    "tags": []
   },
   "outputs": [],
   "source": [
    "cols_ord_with_nans = list(set(cols_with_nans) & set(cols_ord))"
   ]
  },
  {
   "cell_type": "code",
   "execution_count": 148,
   "id": "32964a74-f215-4fb0-9bbf-f822f631bfb8",
   "metadata": {
    "tags": []
   },
   "outputs": [],
   "source": [
    "cols_num_with_nans = list(set(cols_with_nans) & set(cols_num))"
   ]
  },
  {
   "cell_type": "markdown",
   "id": "0585a024-0944-458b-b18f-896219a86ca8",
   "metadata": {},
   "source": [
    " ### Fill missing values in categorical features"
   ]
  },
  {
   "cell_type": "code",
   "execution_count": 149,
   "id": "597d4577-8748-4f3d-996c-17253d600903",
   "metadata": {
    "tags": []
   },
   "outputs": [],
   "source": [
    "df[cols_cat_with_nans] = df[cols_cat_with_nans].fillna('NoInfo')"
   ]
  },
  {
   "cell_type": "markdown",
   "id": "712afc91-b243-40f1-8e0a-786451ea20f2",
   "metadata": {},
   "source": [
    "### Fill missing values in GarageYrBlt with YearBuilt. The missing values are from variables with no garage taken into account in other feature."
   ]
  },
  {
   "cell_type": "code",
   "execution_count": 150,
   "id": "38af5c01-3179-4c86-b5b6-58e5503d5447",
   "metadata": {
    "tags": []
   },
   "outputs": [],
   "source": [
    "df['GarageYrBlt'] = df['GarageYrBlt'].fillna('YearBuilt')"
   ]
  },
  {
   "cell_type": "markdown",
   "id": "b4f9ef68-51b7-4777-a9f9-6bbab6d78ef4",
   "metadata": {},
   "source": [
    "### Fill missing values in LotFrontage by using LotArea"
   ]
  },
  {
   "cell_type": "code",
   "execution_count": 151,
   "id": "d131a56a-b9dd-4374-964a-ada7d6a5aca9",
   "metadata": {},
   "outputs": [],
   "source": [
    "df['LotFrontage'] = df['LotFrontage'].fillna(np.sqrt(df[\"LotArea\"])/np.mean(np.sqrt(df[\"LotArea\"])/(df[\"LotFrontage\"])))"
   ]
  },
  {
   "cell_type": "markdown",
   "id": "6be24a49-94c2-40b9-b434-a00c4460ea03",
   "metadata": {},
   "source": [
    "### Fill missing values in ordinal features with NoInfo"
   ]
  },
  {
   "cell_type": "code",
   "execution_count": 165,
   "id": "b1ccc91a-485b-42a0-9b6f-3e1dc1f1277e",
   "metadata": {},
   "outputs": [],
   "source": [
    "df[cols_ord_with_nans] = df[cols_ord_with_nans].fillna('NoInfo')"
   ]
  },
  {
   "cell_type": "markdown",
   "id": "88fa4e1c-50fa-482a-92c1-3bc2d8bd3513",
   "metadata": {},
   "source": [
    "### Eliminate the rows with remaining NaNs"
   ]
  },
  {
   "cell_type": "code",
   "execution_count": 167,
   "id": "dedd2f2c-01cf-45de-8b7d-302ee791f39d",
   "metadata": {},
   "outputs": [],
   "source": [
    "df = df.dropna(axis=0, how='any')"
   ]
  },
  {
   "cell_type": "code",
   "execution_count": 168,
   "id": "f203053b-1694-4fd7-a244-e42861bc0330",
   "metadata": {
    "tags": []
   },
   "outputs": [],
   "source": [
    "prof = ProfileReport(df)"
   ]
  },
  {
   "cell_type": "code",
   "execution_count": null,
   "id": "a21f2382-760f-4e24-95d6-070a87efa7dc",
   "metadata": {},
   "outputs": [],
   "source": []
  },
  {
   "cell_type": "markdown",
   "id": "6b6902a1-bad2-4252-a880-26e7e7f3f139",
   "metadata": {},
   "source": [
    "## Probando"
   ]
  },
  {
   "cell_type": "code",
   "execution_count": 170,
   "id": "d7811eb1-c432-4dc5-8c9b-de23cedcaad8",
   "metadata": {},
   "outputs": [
    {
     "data": {
      "application/vnd.jupyter.widget-view+json": {
       "model_id": "fb2eea8fa2994fb7a82ea0f2a5e6eb5f",
       "version_major": 2,
       "version_minor": 0
      },
      "text/plain": [
       "Export report to file:   0%|          | 0/1 [00:00<?, ?it/s]"
      ]
     },
     "metadata": {},
     "output_type": "display_data"
    }
   ],
   "source": [
    "prof.to_file(output_file='profilehousetrain.html')"
   ]
  },
  {
   "cell_type": "code",
   "execution_count": null,
   "id": "b77360f6-34ff-4832-a385-3c41c8b6be5f",
   "metadata": {},
   "outputs": [],
   "source": []
  }
 ],
 "metadata": {
  "kernelspec": {
   "display_name": "Python 3 (ipykernel)",
   "language": "python",
   "name": "python3"
  },
  "language_info": {
   "codemirror_mode": {
    "name": "ipython",
    "version": 3
   },
   "file_extension": ".py",
   "mimetype": "text/x-python",
   "name": "python",
   "nbconvert_exporter": "python",
   "pygments_lexer": "ipython3",
   "version": "3.10.8"
  }
 },
 "nbformat": 4,
 "nbformat_minor": 5
}
