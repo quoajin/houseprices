{
 "cells": [
  {
   "cell_type": "code",
   "execution_count": 27,
   "id": "297533a2-793b-4ae1-b7dc-d792a36dcbf3",
   "metadata": {},
   "outputs": [],
   "source": [
    "import pandas as pd"
   ]
  },
  {
   "cell_type": "code",
   "execution_count": 28,
   "id": "3c346f8a-5bcc-4bc9-ae72-5816841cbf80",
   "metadata": {},
   "outputs": [],
   "source": [
    "from pandas_profiling import ProfileReport"
   ]
  },
  {
   "cell_type": "code",
   "execution_count": 29,
   "id": "4c93aced-d56d-477e-8ffc-8a59e774b7c3",
   "metadata": {},
   "outputs": [],
   "source": [
    "df = pd.read_csv('train.csv')"
   ]
  },
  {
   "cell_type": "code",
   "execution_count": 30,
   "id": "2b49f299-1264-45ce-ab27-5b7db8c14500",
   "metadata": {},
   "outputs": [],
   "source": [
    "pd.set_option('display.max_rows', 100)"
   ]
  },
  {
   "cell_type": "markdown",
   "id": "fefa8ea0-afb7-44a5-a5fc-d202f694159a",
   "metadata": {},
   "source": [
    "## Separate features by type"
   ]
  },
  {
   "cell_type": "code",
   "execution_count": 31,
   "id": "c1572283-5d1a-45d7-a88c-710ae40675a6",
   "metadata": {},
   "outputs": [
    {
     "data": {
      "text/plain": [
       "Index(['Id', 'MSSubClass', 'MSZoning', 'LotFrontage', 'LotArea', 'Street',\n",
       "       'Alley', 'LotShape', 'LandContour', 'Utilities', 'LotConfig',\n",
       "       'LandSlope', 'Neighborhood', 'Condition1', 'Condition2', 'BldgType',\n",
       "       'HouseStyle', 'OverallQual', 'OverallCond', 'YearBuilt', 'YearRemodAdd',\n",
       "       'RoofStyle', 'RoofMatl', 'Exterior1st', 'Exterior2nd', 'MasVnrType',\n",
       "       'MasVnrArea', 'ExterQual', 'ExterCond', 'Foundation', 'BsmtQual',\n",
       "       'BsmtCond', 'BsmtExposure', 'BsmtFinType1', 'BsmtFinSF1',\n",
       "       'BsmtFinType2', 'BsmtFinSF2', 'BsmtUnfSF', 'TotalBsmtSF', 'Heating',\n",
       "       'HeatingQC', 'CentralAir', 'Electrical', '1stFlrSF', '2ndFlrSF',\n",
       "       'LowQualFinSF', 'GrLivArea', 'BsmtFullBath', 'BsmtHalfBath', 'FullBath',\n",
       "       'HalfBath', 'BedroomAbvGr', 'KitchenAbvGr', 'KitchenQual',\n",
       "       'TotRmsAbvGrd', 'Functional', 'Fireplaces', 'FireplaceQu', 'GarageType',\n",
       "       'GarageYrBlt', 'GarageFinish', 'GarageCars', 'GarageArea', 'GarageQual',\n",
       "       'GarageCond', 'PavedDrive', 'WoodDeckSF', 'OpenPorchSF',\n",
       "       'EnclosedPorch', '3SsnPorch', 'ScreenPorch', 'PoolArea', 'PoolQC',\n",
       "       'Fence', 'MiscFeature', 'MiscVal', 'MoSold', 'YrSold', 'SaleType',\n",
       "       'SaleCondition', 'SalePrice'],\n",
       "      dtype='object')"
      ]
     },
     "execution_count": 31,
     "metadata": {},
     "output_type": "execute_result"
    }
   ],
   "source": [
    "df.columns"
   ]
  },
  {
   "cell_type": "code",
   "execution_count": 32,
   "id": "dc99acd2-b541-4ff9-8214-f93b9d19172d",
   "metadata": {},
   "outputs": [],
   "source": [
    "colscat = df.select_dtypes(include = object).columns.to_list()"
   ]
  },
  {
   "cell_type": "markdown",
   "id": "e0ce6cce-4b9c-4f66-a0ab-5a9333b400bd",
   "metadata": {},
   "source": [
    "### Select categorical features"
   ]
  },
  {
   "cell_type": "code",
   "execution_count": 33,
   "id": "de4c2090-e7de-4789-b37b-cb7ab2c9c992",
   "metadata": {},
   "outputs": [],
   "source": [
    "cols_cat = ['MSSubClass', 'MSZoning', 'Street', 'Alley', 'LotShape', 'LandContour', 'Utilities', 'LotConfig',\n",
    "        'LandSlope', 'Neighborhood', 'Condition1', 'Condition2', 'BldgType', 'HouseStyle', 'RoofStyle', 'RoofMatl',\n",
    "        'Exterior1st', 'Exterior2nd', 'MasVnrType', 'Foundation', 'BsmtFinType1', 'BsmtFinType2', 'Heating', \n",
    "        'CentralAir', 'Electrical', 'Functional', 'GarageType', 'PavedDrive', 'MiscFeature', 'SaleType', 'SaleCondition']"
   ]
  },
  {
   "cell_type": "code",
   "execution_count": 34,
   "id": "abd80d08-b362-43fe-9878-32161afe395b",
   "metadata": {},
   "outputs": [],
   "source": [
    "df[cols_cat] = df[cols_cat].astype('string')"
   ]
  },
  {
   "cell_type": "markdown",
   "id": "50d15717-ba6d-41ca-b561-c1a875ee59e8",
   "metadata": {},
   "source": [
    "### Select numeric features"
   ]
  },
  {
   "cell_type": "code",
   "execution_count": 35,
   "id": "fcb54e89-5dbb-4f59-a31e-36f75470172e",
   "metadata": {},
   "outputs": [
    {
     "data": {
      "text/plain": [
       "Index(['Id', 'LotFrontage', 'LotArea', 'OverallQual', 'OverallCond',\n",
       "       'YearBuilt', 'YearRemodAdd', 'MasVnrArea', 'BsmtFinSF1', 'BsmtFinSF2',\n",
       "       'BsmtUnfSF', 'TotalBsmtSF', '1stFlrSF', '2ndFlrSF', 'LowQualFinSF',\n",
       "       'GrLivArea', 'BsmtFullBath', 'BsmtHalfBath', 'FullBath', 'HalfBath',\n",
       "       'BedroomAbvGr', 'KitchenAbvGr', 'TotRmsAbvGrd', 'Fireplaces',\n",
       "       'GarageYrBlt', 'GarageCars', 'GarageArea', 'WoodDeckSF', 'OpenPorchSF',\n",
       "       'EnclosedPorch', '3SsnPorch', 'ScreenPorch', 'PoolArea', 'MiscVal',\n",
       "       'MoSold', 'YrSold', 'SalePrice'],\n",
       "      dtype='object')"
      ]
     },
     "execution_count": 35,
     "metadata": {},
     "output_type": "execute_result"
    }
   ],
   "source": [
    "df.select_dtypes(exclude = ['object', 'string']).columns"
   ]
  },
  {
   "cell_type": "code",
   "execution_count": 36,
   "id": "0f021c51-c883-4cee-b780-ca93b5f09cb4",
   "metadata": {},
   "outputs": [],
   "source": [
    "cols_num = ['LotFrontage', 'LotArea','YearBuilt', 'YearRemodAdd', 'MasVnrArea', 'BsmtFinSF1', 'BsmtFinSF2',\n",
    "       'BsmtUnfSF', 'TotalBsmtSF', '1stFlrSF', '2ndFlrSF', 'LowQualFinSF',\n",
    "       'GrLivArea', 'BsmtFullBath', 'BsmtHalfBath', 'FullBath', 'HalfBath',\n",
    "       'BedroomAbvGr', 'KitchenAbvGr', 'TotRmsAbvGrd', 'Fireplaces',\n",
    "       'GarageYrBlt', 'GarageCars', 'GarageArea', 'WoodDeckSF', 'OpenPorchSF','EnclosedPorch', '3SsnPorch', 'ScreenPorch', 'PoolArea', 'MiscVal',\n",
    "       'MoSold', 'YrSold', 'SalePrice']"
   ]
  },
  {
   "cell_type": "code",
   "execution_count": 37,
   "id": "1ceb5cf5-5c79-4ee6-8f27-b47ccf128e94",
   "metadata": {},
   "outputs": [
    {
     "data": {
      "text/plain": [
       "list"
      ]
     },
     "execution_count": 37,
     "metadata": {},
     "output_type": "execute_result"
    }
   ],
   "source": [
    "type([cols_num, cols_cat])"
   ]
  },
  {
   "cell_type": "markdown",
   "id": "1d0df323-eb56-42f3-863d-9f36fff5ad0a",
   "metadata": {},
   "source": [
    "### Select ordinal categories (qué hago con Id)"
   ]
  },
  {
   "cell_type": "code",
   "execution_count": 38,
   "id": "7b0246ed-9a3e-44ef-890c-f1fa600b9878",
   "metadata": {},
   "outputs": [],
   "source": [
    "cols_ord = df.drop(cols_cat + cols_num, axis=1).columns"
   ]
  },
  {
   "cell_type": "code",
   "execution_count": 39,
   "id": "52e6e0f9-56be-41b1-8741-3692caebf4dc",
   "metadata": {},
   "outputs": [
    {
     "data": {
      "text/plain": [
       "Index(['Id', 'OverallQual', 'OverallCond', 'ExterQual', 'ExterCond',\n",
       "       'BsmtQual', 'BsmtCond', 'BsmtExposure', 'HeatingQC', 'KitchenQual',\n",
       "       'FireplaceQu', 'GarageFinish', 'GarageQual', 'GarageCond', 'PoolQC',\n",
       "       'Fence'],\n",
       "      dtype='object')"
      ]
     },
     "execution_count": 39,
     "metadata": {},
     "output_type": "execute_result"
    }
   ],
   "source": [
    "cols_ord"
   ]
  },
  {
   "cell_type": "markdown",
   "id": "5a285491-46ab-4d07-b91e-35aeacd8e09d",
   "metadata": {},
   "source": [
    "## Impute NaNs"
   ]
  },
  {
   "cell_type": "code",
   "execution_count": 40,
   "id": "8f50816d-e938-4bd4-ab96-1aa4fa6160a5",
   "metadata": {},
   "outputs": [],
   "source": [
    "df_nans = df.isna().sum().reset_index().rename(columns={0:'num_nans', 'index':'col_names'})"
   ]
  },
  {
   "cell_type": "code",
   "execution_count": 41,
   "id": "79d0102d-8344-407e-9e78-4a9882ebed86",
   "metadata": {},
   "outputs": [],
   "source": [
    "cols_with_nans = df_nans[df_nans.num_nans != 0].col_names.to_list()"
   ]
  },
  {
   "cell_type": "code",
   "execution_count": 42,
   "id": "4a337c2b-0dfc-4c51-9d3b-b696b56d8e0e",
   "metadata": {},
   "outputs": [
    {
     "data": {
      "text/plain": [
       "LotFrontage     float64\n",
       "Alley            string\n",
       "MasVnrType       string\n",
       "MasVnrArea      float64\n",
       "BsmtQual         object\n",
       "BsmtCond         object\n",
       "BsmtExposure     object\n",
       "BsmtFinType1     string\n",
       "BsmtFinType2     string\n",
       "Electrical       string\n",
       "FireplaceQu      object\n",
       "GarageType       string\n",
       "GarageYrBlt     float64\n",
       "GarageFinish     object\n",
       "GarageQual       object\n",
       "GarageCond       object\n",
       "PoolQC           object\n",
       "Fence            object\n",
       "MiscFeature      string\n",
       "dtype: object"
      ]
     },
     "execution_count": 42,
     "metadata": {},
     "output_type": "execute_result"
    }
   ],
   "source": [
    "df[cols_with_nans].dtypes"
   ]
  },
  {
   "cell_type": "code",
   "execution_count": 43,
   "id": "48df47a4-be0f-4b24-8a44-973ea0632d1b",
   "metadata": {},
   "outputs": [],
   "source": [
    "cols_cat_with_nans = list(set(cols_with_nans) & set(cols_cat))"
   ]
  },
  {
   "cell_type": "code",
   "execution_count": 44,
   "id": "790e011c-1ed1-40b2-8aef-238ed6ab06e6",
   "metadata": {},
   "outputs": [],
   "source": [
    "cols_ord_with_nans = list(set(cols_with_nans) & set(cols_ord))"
   ]
  },
  {
   "cell_type": "code",
   "execution_count": 45,
   "id": "32964a74-f215-4fb0-9bbf-f822f631bfb8",
   "metadata": {},
   "outputs": [],
   "source": [
    "cols_num_with_nans = list(set(cols_with_nans) & set(cols_num))"
   ]
  },
  {
   "cell_type": "markdown",
   "id": "0585a024-0944-458b-b18f-896219a86ca8",
   "metadata": {},
   "source": [
    " ### Fill missing values in categorical features"
   ]
  },
  {
   "cell_type": "code",
   "execution_count": 46,
   "id": "597d4577-8748-4f3d-996c-17253d600903",
   "metadata": {},
   "outputs": [],
   "source": [
    "df[cols_cat_with_nans] = df[cols_cat_with_nans].fillna('NoInfo')"
   ]
  },
  {
   "cell_type": "markdown",
   "id": "712afc91-b243-40f1-8e0a-786451ea20f2",
   "metadata": {},
   "source": [
    "### Fill missing values in GarageYrBlt with YearBuilt. The missing values are from variables with no garage taken into account in other feature."
   ]
  },
  {
   "cell_type": "code",
   "execution_count": 47,
   "id": "38af5c01-3179-4c86-b5b6-58e5503d5447",
   "metadata": {},
   "outputs": [],
   "source": [
    "df['GarageYrBlt'] = df['GarageYrBlt'].fillna('YearBuilt')"
   ]
  },
  {
   "cell_type": "code",
   "execution_count": 49,
   "id": "f203053b-1694-4fd7-a244-e42861bc0330",
   "metadata": {},
   "outputs": [],
   "source": [
    "prof = ProfileReport(df)"
   ]
  },
  {
   "cell_type": "markdown",
   "id": "6b6902a1-bad2-4252-a880-26e7e7f3f139",
   "metadata": {},
   "source": [
    "## Probando"
   ]
  },
  {
   "cell_type": "code",
   "execution_count": 50,
   "id": "d7811eb1-c432-4dc5-8c9b-de23cedcaad8",
   "metadata": {},
   "outputs": [
    {
     "name": "stderr",
     "output_type": "stream",
     "text": [
      "Summarize dataset: 100%|██████████| 932/932 [24:05<00:00,  1.55s/it, Completed]                           \n",
      "Generate report structure: 100%|██████████| 1/1 [03:35<00:00, 215.47s/it]\n",
      "Render HTML: 100%|██████████| 1/1 [04:16<00:00, 256.49s/it]\n",
      "Export report to file: 100%|██████████| 1/1 [00:00<00:00,  2.33it/s]\n"
     ]
    }
   ],
   "source": [
    "prof.to_file(output_file='profilehousetrain.html')"
   ]
  },
  {
   "cell_type": "code",
   "execution_count": null,
   "id": "2c8d6bb2-7971-4761-9c4b-e7793615e10a",
   "metadata": {},
   "outputs": [],
   "source": []
  }
 ],
 "metadata": {
  "kernelspec": {
   "display_name": "Python 3 (ipykernel)",
   "language": "python",
   "name": "python3"
  },
  "language_info": {
   "codemirror_mode": {
    "name": "ipython",
    "version": 3
   },
   "file_extension": ".py",
   "mimetype": "text/x-python",
   "name": "python",
   "nbconvert_exporter": "python",
   "pygments_lexer": "ipython3",
   "version": "3.10.8"
  }
 },
 "nbformat": 4,
 "nbformat_minor": 5
}
